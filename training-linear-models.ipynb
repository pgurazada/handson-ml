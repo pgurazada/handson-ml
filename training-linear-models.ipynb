{
 "cells": [
  {
   "cell_type": "code",
   "execution_count": 14,
   "metadata": {},
   "outputs": [
    {
     "data": {
      "text/plain": [
       "100×2 Array{Float64,2}:\n",
       " 1.0  1.85474  \n",
       " 1.0  0.299743 \n",
       " 1.0  1.11612  \n",
       " 1.0  0.741247 \n",
       " 1.0  0.952258 \n",
       " 1.0  0.6      \n",
       " 1.0  0.231138 \n",
       " 1.0  0.384389 \n",
       " 1.0  0.431405 \n",
       " 1.0  0.200832 \n",
       " 1.0  1.79621  \n",
       " 1.0  1.68678  \n",
       " 1.0  1.09458  \n",
       " ⋮             \n",
       " 1.0  0.107971 \n",
       " 1.0  0.406447 \n",
       " 1.0  0.691274 \n",
       " 1.0  1.0265   \n",
       " 1.0  1.89014  \n",
       " 1.0  1.94844  \n",
       " 1.0  1.84592  \n",
       " 1.0  1.12895  \n",
       " 1.0  0.0611248\n",
       " 1.0  0.738629 \n",
       " 1.0  1.86552  \n",
       " 1.0  1.55379  "
      ]
     },
     "execution_count": 14,
     "metadata": {},
     "output_type": "execute_result"
    }
   ],
   "source": [
    "X = 2 * rand(100, 1)\n",
    "X_b = hcat(ones(100), X)"
   ]
  },
  {
   "cell_type": "code",
   "execution_count": 15,
   "metadata": {},
   "outputs": [
    {
     "data": {
      "text/plain": [
       "100×1 Array{Float64,2}:\n",
       " 11.0973 \n",
       "  4.3729 \n",
       "  7.84691\n",
       "  5.31347\n",
       "  6.2205 \n",
       "  5.98568\n",
       "  5.91409\n",
       "  4.11933\n",
       "  4.5978 \n",
       "  4.72279\n",
       "  9.51808\n",
       "  7.79841\n",
       "  8.0641 \n",
       "  ⋮      \n",
       "  4.0139 \n",
       "  4.85471\n",
       "  5.49445\n",
       "  7.39412\n",
       "  9.73597\n",
       "  8.65986\n",
       "  9.93085\n",
       "  7.91649\n",
       "  4.04658\n",
       "  6.20148\n",
       "  9.47201\n",
       "  9.28205"
      ]
     },
     "execution_count": 15,
     "metadata": {},
     "output_type": "execute_result"
    }
   ],
   "source": [
    "y = 4 + 3 * X + randn(100, 1)"
   ]
  },
  {
   "cell_type": "code",
   "execution_count": 45,
   "metadata": {},
   "outputs": [
    {
     "data": {
      "text/plain": [
       "batch_gradient_descent (generic function with 6 methods)"
      ]
     },
     "execution_count": 45,
     "metadata": {},
     "output_type": "execute_result"
    }
   ],
   "source": [
    "function batch_gradient_descent(X, y, learning_rate=0.1, n_iterations=1000, m=100)\n",
    "    theta = randn(2, 1)\n",
    "    \n",
    "    for iteration in 1:n_iterations\n",
    "        gradients = (2/m) .* (X' * (X * theta - y))\n",
    "        theta -= learning_rate .* gradients\n",
    "    end\n",
    "    \n",
    "    return theta\n",
    "    \n",
    "end"
   ]
  },
  {
   "cell_type": "code",
   "execution_count": 46,
   "metadata": {},
   "outputs": [
    {
     "data": {
      "text/html": [
       "6 methods for generic function <b>batch_gradient_descent</b>:<ul><li> batch_gradient_descent() at In[8]:2</li> <li> batch_gradient_descent(eta) at In[8]:2</li> <li> batch_gradient_descent(X, y) at In[45]:2</li> <li> batch_gradient_descent(X, y, learning_rate) at In[45]:2</li> <li> batch_gradient_descent(X, y, learning_rate, n_iterations) at In[45]:2</li> <li> batch_gradient_descent(X, y, learning_rate, n_iterations, m) at In[45]:2</li> </ul>"
      ],
      "text/plain": [
       "# 6 methods for generic function \"batch_gradient_descent\":\n",
       "batch_gradient_descent() in Main at In[8]:2\n",
       "batch_gradient_descent(eta) in Main at In[8]:2\n",
       "batch_gradient_descent(X, y) in Main at In[45]:2\n",
       "batch_gradient_descent(X, y, learning_rate) in Main at In[45]:2\n",
       "batch_gradient_descent(X, y, learning_rate, n_iterations) in Main at In[45]:2\n",
       "batch_gradient_descent(X, y, learning_rate, n_iterations, m) in Main at In[45]:2"
      ]
     },
     "execution_count": 46,
     "metadata": {},
     "output_type": "execute_result"
    }
   ],
   "source": [
    "methods(batch_gradient_descent)"
   ]
  },
  {
   "cell_type": "code",
   "execution_count": 59,
   "metadata": {},
   "outputs": [
    {
     "name": "stdout",
     "output_type": "stream",
     "text": [
      "  0.001588 seconds (6.00 k allocations: 2.075 MiB)\n"
     ]
    },
    {
     "data": {
      "text/plain": [
       "2×1 Array{Float64,2}:\n",
       " 2.3947  \n",
       " 0.240146"
      ]
     },
     "execution_count": 59,
     "metadata": {},
     "output_type": "execute_result"
    }
   ],
   "source": [
    "@time batch_gradient_descent(X_b, y, 0.0001)"
   ]
  },
  {
   "cell_type": "code",
   "execution_count": 56,
   "metadata": {},
   "outputs": [
    {
     "name": "stdout",
     "output_type": "stream",
     "text": [
      "  0.001416 seconds (6.08 k allocations: 2.081 MiB)\n"
     ]
    },
    {
     "data": {
      "text/plain": [
       "2×1 Array{Float64,2}:\n",
       " 3.81355\n",
       " 3.10539"
      ]
     },
     "execution_count": 56,
     "metadata": {},
     "output_type": "execute_result"
    }
   ],
   "source": [
    "@time batch_gradient_descent(X_b, y, 0.02)"
   ]
  },
  {
   "cell_type": "code",
   "execution_count": 57,
   "metadata": {},
   "outputs": [
    {
     "name": "stdout",
     "output_type": "stream",
     "text": [
      "  0.001718 seconds (6.00 k allocations: 2.075 MiB)\n"
     ]
    },
    {
     "data": {
      "text/plain": [
       "2×1 Array{Float64,2}:\n",
       " 3.81528\n",
       " 3.10382"
      ]
     },
     "execution_count": 57,
     "metadata": {},
     "output_type": "execute_result"
    }
   ],
   "source": [
    "@time batch_gradient_descent(X_b, y, 0.1)"
   ]
  },
  {
   "cell_type": "code",
   "execution_count": 58,
   "metadata": {},
   "outputs": [
    {
     "name": "stdout",
     "output_type": "stream",
     "text": [
      "  0.001317 seconds (6.00 k allocations: 2.075 MiB)\n"
     ]
    },
    {
     "data": {
      "text/plain": [
       "2×1 Array{Float64,2}:\n",
       " -2.9726e10 \n",
       " -3.28898e10"
      ]
     },
     "execution_count": 58,
     "metadata": {},
     "output_type": "execute_result"
    }
   ],
   "source": [
    "@time batch_gradient_descent(X_b, y, 0.5)"
   ]
  },
  {
   "cell_type": "code",
   "execution_count": 66,
   "metadata": {},
   "outputs": [
    {
     "data": {
      "text/plain": [
       "simple_schedule (generic function with 3 methods)"
      ]
     },
     "execution_count": 66,
     "metadata": {},
     "output_type": "execute_result"
    }
   ],
   "source": [
    "function simple_schedule(t, t0=5, t1=50)\n",
    "    return t0/(t+t1)\n",
    "end"
   ]
  },
  {
   "cell_type": "code",
   "execution_count": 127,
   "metadata": {},
   "outputs": [
    {
     "data": {
      "text/plain": [
       "SGD (generic function with 4 methods)"
      ]
     },
     "execution_count": 127,
     "metadata": {},
     "output_type": "execute_result"
    }
   ],
   "source": [
    "function SGD(X, y, learning_schedule=simple_schedule, n_epochs=50, m=100)\n",
    "    theta = randn(2, 1)\n",
    "    \n",
    "    for epoch in 1:n_epochs\n",
    "        for i in 1:m\n",
    "            random_index = rand(1:m)\n",
    "            x_i = X[random_index:random_index, :]\n",
    "            y_i = y[random_index, :]\n",
    "            \n",
    "            gradients = (2/m) .* (x_i' * (x_i * theta - y_i))\n",
    "            \n",
    "            learning_rate = learning_schedule(epoch * m + i)\n",
    "            \n",
    "            theta -= learning_rate .* gradients\n",
    "        end\n",
    "    end\n",
    "\n",
    "    return theta\n",
    "end"
   ]
  },
  {
   "cell_type": "code",
   "execution_count": 128,
   "metadata": {},
   "outputs": [
    {
     "data": {
      "text/html": [
       "4 methods for generic function <b>SGD</b>:<ul><li> SGD(X, y) at In[127]:2</li> <li> SGD(X, y, learning_schedule) at In[127]:2</li> <li> SGD(X, y, learning_schedule, n_epochs) at In[127]:2</li> <li> SGD(X, y, learning_schedule, n_epochs, m) at In[127]:2</li> </ul>"
      ],
      "text/plain": [
       "# 4 methods for generic function \"SGD\":\n",
       "SGD(X, y) in Main at In[127]:2\n",
       "SGD(X, y, learning_schedule) in Main at In[127]:2\n",
       "SGD(X, y, learning_schedule, n_epochs) in Main at In[127]:2\n",
       "SGD(X, y, learning_schedule, n_epochs, m) in Main at In[127]:2"
      ]
     },
     "execution_count": 128,
     "metadata": {},
     "output_type": "execute_result"
    }
   ],
   "source": [
    "methods(SGD)"
   ]
  },
  {
   "cell_type": "code",
   "execution_count": 139,
   "metadata": {},
   "outputs": [
    {
     "name": "stdout",
     "output_type": "stream",
     "text": [
      "  0.005432 seconds (55.01 k allocations: 3.968 MiB)\n"
     ]
    },
    {
     "data": {
      "text/plain": [
       "2×1 Array{Float64,2}:\n",
       " 1.65373\n",
       " 1.48308"
      ]
     },
     "execution_count": 139,
     "metadata": {},
     "output_type": "execute_result"
    }
   ],
   "source": [
    "@time SGD(X_b, y)"
   ]
  },
  {
   "cell_type": "code",
   "execution_count": 156,
   "metadata": {},
   "outputs": [],
   "source": [
    "theta_path_mgd = []\n",
    "\n",
    "n_iterations = 50\n",
    "minibatch_size = 20\n",
    "\n",
    "theta = randn(2,1)  # random initialization\n",
    "\n",
    "t0, t1 = 200, 1000\n",
    "\n",
    "t, m = 0, 100\n",
    "\n",
    "for epoch in 1:n_iterations\n",
    "    shuffled_indices = randperm(m)\n",
    "    \n",
    "    X_b_shuffled = X_b[shuffled_indices, :]\n",
    "    y_shuffled = y[shuffled_indices, :]\n",
    "    \n",
    "    for i in 1:minibatch_size:m\n",
    "        t += 1\n",
    "        \n",
    "        xi = X_b_shuffled[i:i+minibatch_size-1, :]\n",
    "        yi = y_shuffled[i:i+minibatch_size-1, :]\n",
    "        \n",
    "        gradients = (2/minibatch_size) .* (xi' * (xi * theta - yi))\n",
    "        \n",
    "        eta = simple_schedule(t, t0, t1)\n",
    "        \n",
    "        theta -= eta * gradients\n",
    "        push!(theta_path_mgd, theta)\n",
    "    end\n",
    "end        "
   ]
  },
  {
   "cell_type": "code",
   "execution_count": 157,
   "metadata": {},
   "outputs": [
    {
     "data": {
      "text/plain": [
       "250-element Array{Any,1}:\n",
       " [2.54918; 2.35904]\n",
       " [3.43309; 3.18573]\n",
       " [3.67141; 3.36518]\n",
       " [3.52323; 3.18562]\n",
       " [3.58384; 3.20245]\n",
       " [3.65825; 3.2555] \n",
       " [3.54647; 3.15845]\n",
       " [3.69373; 3.36666]\n",
       " [3.64436; 3.23186]\n",
       " [3.71939; 3.26405]\n",
       " [3.60781; 3.1049] \n",
       " [3.75187; 3.21616]\n",
       " [3.72784; 3.19755]\n",
       " ⋮                 \n",
       " [3.86762; 3.18434]\n",
       " [3.88339; 3.17573]\n",
       " [3.79371; 3.11992]\n",
       " [3.7993; 3.08705] \n",
       " [3.75894; 3.05476]\n",
       " [3.81746; 3.11527]\n",
       " [3.88121; 3.17005]\n",
       " [3.76567; 3.03846]\n",
       " [3.90441; 3.12017]\n",
       " [3.85792; 3.09789]\n",
       " [3.7955; 3.09836] \n",
       " [3.83998; 3.13671]"
      ]
     },
     "execution_count": 157,
     "metadata": {},
     "output_type": "execute_result"
    }
   ],
   "source": [
    "theta_path_mgd"
   ]
  },
  {
   "cell_type": "code",
   "execution_count": null,
   "metadata": {},
   "outputs": [],
   "source": []
  }
 ],
 "metadata": {
  "kernelspec": {
   "display_name": "Julia 0.6.2",
   "language": "julia",
   "name": "julia-0.6"
  },
  "language_info": {
   "file_extension": ".jl",
   "mimetype": "application/julia",
   "name": "julia",
   "version": "0.6.2"
  }
 },
 "nbformat": 4,
 "nbformat_minor": 2
}
